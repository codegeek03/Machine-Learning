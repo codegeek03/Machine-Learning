{
 "cells": [
  {
   "cell_type": "code",
   "execution_count": 1,
   "id": "0917611d",
   "metadata": {},
   "outputs": [
    {
     "name": "stdout",
     "output_type": "stream",
     "text": [
      "WARNING:tensorflow:From C:\\Users\\shami\\anaconda3\\lib\\site-packages\\keras\\src\\losses.py:2976: The name tf.losses.sparse_softmax_cross_entropy is deprecated. Please use tf.compat.v1.losses.sparse_softmax_cross_entropy instead.\n",
      "\n"
     ]
    }
   ],
   "source": [
    "import numpy as np\n",
    "import pandas as pd\n",
    "from matplotlib import pyplot as plt\n",
    "import tensorflow as tf\n",
    "from tensorflow import keras\n",
    "from tensorflow.keras import Sequential\n",
    "from tensorflow.keras.layers import Dense,Flatten"
   ]
  },
  {
   "cell_type": "markdown",
   "id": "54567d90",
   "metadata": {},
   "source": [
    "# Data import and pre-processing "
   ]
  },
  {
   "cell_type": "code",
   "execution_count": 2,
   "id": "a922bc72",
   "metadata": {},
   "outputs": [],
   "source": [
    "df=pd.read_csv(\"train.csv\")"
   ]
  },
  {
   "cell_type": "code",
   "execution_count": 3,
   "id": "85ffbf0d",
   "metadata": {},
   "outputs": [],
   "source": [
    "X=np.array(df.iloc[:,1:785])\n",
    "y=np.array(df.iloc[:,0])"
   ]
  },
  {
   "cell_type": "code",
   "execution_count": 4,
   "id": "7aa9f5d2",
   "metadata": {},
   "outputs": [
    {
     "data": {
      "image/png": "[encoded data removed]",
      "text/plain": [
       "<Figure size 1000x100 with 10 Axes>"
      ]
     },
     "metadata": {},
     "output_type": "display_data"
    }
   ],
   "source": [
    "plt.figure(figsize=(10, 1))\n",
    "for i in range(10):\n",
    "    plt.subplot(1, 10, i + 1)\n",
    "    plt.imshow(X[i].reshape(28, 28), cmap='gray')\n",
    "    plt.axis('off')\n",
    "plt.show()"
   ]
  },
  {
   "cell_type": "code",
   "execution_count": 5,
   "id": "25de9892",
   "metadata": {},
   "outputs": [],
   "source": [
    "from sklearn.model_selection import train_test_split\n",
    "X_train,X_test,y_train,y_test=train_test_split(X,y,test_size=0.2)"
   ]
  },
  {
   "cell_type": "code",
   "execution_count": 6,
   "id": "af70aa59",
   "metadata": {},
   "outputs": [],
   "source": [
    "from tensorflow.keras.utils import to_categorical\n",
    "\n",
    "X_train = X_train.reshape((33600, 28, 28, 1)).astype('float32') / 255\n",
    "X_test=X_test.reshape((8400, 28, 28, 1)).astype('float32') / 255\n",
    "\n",
    "y_train = to_categorical(y_train)\n",
    "y_test = to_categorical(y_test)"
   ]
  },
  {
   "cell_type": "markdown",
   "id": "ada236b5",
   "metadata": {},
   "source": [
    "# Using ANN"
   ]
  },
  {
   "cell_type": "code",
   "execution_count": 7,
   "id": "b7085258",
   "metadata": {},
   "outputs": [
    {
     "name": "stdout",
     "output_type": "stream",
     "text": [
      "WARNING:tensorflow:From C:\\Users\\shami\\anaconda3\\lib\\site-packages\\keras\\src\\backend.py:873: The name tf.get_default_graph is deprecated. Please use tf.compat.v1.get_default_graph instead.\n",
      "\n"
     ]
    }
   ],
   "source": [
    "from tensorflow.keras import layers, models\n",
    "model= models.Sequential()\n",
    "\n",
    "model.add(layers.Flatten(input_shape=(28, 28)))\n",
    "model.add(layers.Dense(128, activation='relu'))\n",
    "model.add(layers.Dense(64, activation='relu'))\n",
    "model.add(layers.Dense(32, activation='relu'))\n",
    "model.add(layers.Dense(10, activation='softmax'))"
   ]
  },
  {
   "cell_type": "code",
   "execution_count": 8,
   "id": "636b8992",
   "metadata": {},
   "outputs": [
    {
     "name": "stdout",
     "output_type": "stream",
     "text": [
      "WARNING:tensorflow:From C:\\Users\\shami\\anaconda3\\lib\\site-packages\\keras\\src\\optimizers\\__init__.py:309: The name tf.train.Optimizer is deprecated. Please use tf.compat.v1.train.Optimizer instead.\n",
      "\n"
     ]
    }
   ],
   "source": [
    "model.compile(\n",
    "              optimizer='adam',\n",
    "              loss='categorical_crossentropy',\n",
    "              metrics=['accuracy']\n",
    ")"
   ]
  },
  {
   "cell_type": "code",
   "execution_count": 9,
   "id": "a7192364",
   "metadata": {},
   "outputs": [
    {
     "name": "stdout",
     "output_type": "stream",
     "text": [
      "Epoch 1/25\n",
      "WARNING:tensorflow:From C:\\Users\\shami\\anaconda3\\lib\\site-packages\\keras\\src\\utils\\tf_utils.py:492: The name tf.ragged.RaggedTensorValue is deprecated. Please use tf.compat.v1.ragged.RaggedTensorValue instead.\n",
      "\n",
      "WARNING:tensorflow:From C:\\Users\\shami\\anaconda3\\lib\\site-packages\\keras\\src\\engine\\base_layer_utils.py:384: The name tf.executing_eagerly_outside_functions is deprecated. Please use tf.compat.v1.executing_eagerly_outside_functions instead.\n",
      "\n",
      "420/420 [==============================] - 2s 2ms/step - loss: 0.4227 - accuracy: 0.8795 - val_loss: 0.2045 - val_accuracy: 0.9414\n",
      "Epoch 2/25\n",
      "420/420 [==============================] - 1s 2ms/step - loss: 0.1538 - accuracy: 0.9544 - val_loss: 0.1608 - val_accuracy: 0.9522\n",
      "Epoch 3/25\n",
      "420/420 [==============================] - 1s 2ms/step - loss: 0.1052 - accuracy: 0.9685 - val_loss: 0.1438 - val_accuracy: 0.9558\n",
      "Epoch 4/25\n",
      "420/420 [==============================] - 1s 2ms/step - loss: 0.0782 - accuracy: 0.9764 - val_loss: 0.1483 - val_accuracy: 0.9558\n",
      "Epoch 5/25\n",
      "420/420 [==============================] - 1s 2ms/step - loss: 0.0599 - accuracy: 0.9816 - val_loss: 0.1242 - val_accuracy: 0.9655\n",
      "Epoch 6/25\n",
      "420/420 [==============================] - 1s 2ms/step - loss: 0.0482 - accuracy: 0.9844 - val_loss: 0.1240 - val_accuracy: 0.9650\n",
      "Epoch 7/25\n",
      "420/420 [==============================] - 1s 2ms/step - loss: 0.0378 - accuracy: 0.9881 - val_loss: 0.1319 - val_accuracy: 0.9634\n",
      "Epoch 8/25\n",
      "420/420 [==============================] - 1s 2ms/step - loss: 0.0295 - accuracy: 0.9906 - val_loss: 0.1289 - val_accuracy: 0.9656\n",
      "Epoch 9/25\n",
      "420/420 [==============================] - 1s 2ms/step - loss: 0.0238 - accuracy: 0.9924 - val_loss: 0.1360 - val_accuracy: 0.9664\n",
      "Epoch 10/25\n",
      "420/420 [==============================] - 1s 2ms/step - loss: 0.0222 - accuracy: 0.9929 - val_loss: 0.1408 - val_accuracy: 0.9649\n",
      "Epoch 11/25\n",
      "420/420 [==============================] - 1s 2ms/step - loss: 0.0184 - accuracy: 0.9943 - val_loss: 0.1599 - val_accuracy: 0.9635\n",
      "Epoch 12/25\n",
      "420/420 [==============================] - 1s 2ms/step - loss: 0.0229 - accuracy: 0.9922 - val_loss: 0.1827 - val_accuracy: 0.9594\n",
      "Epoch 13/25\n",
      "420/420 [==============================] - 1s 2ms/step - loss: 0.0202 - accuracy: 0.9935 - val_loss: 0.1306 - val_accuracy: 0.9665\n",
      "Epoch 14/25\n",
      "420/420 [==============================] - 1s 2ms/step - loss: 0.0117 - accuracy: 0.9963 - val_loss: 0.1574 - val_accuracy: 0.9652\n",
      "Epoch 15/25\n",
      "420/420 [==============================] - 1s 1ms/step - loss: 0.0141 - accuracy: 0.9955 - val_loss: 0.1557 - val_accuracy: 0.9683\n",
      "Epoch 16/25\n",
      "420/420 [==============================] - 1s 1ms/step - loss: 0.0068 - accuracy: 0.9980 - val_loss: 0.1571 - val_accuracy: 0.9658\n",
      "Epoch 17/25\n",
      "420/420 [==============================] - 1s 2ms/step - loss: 0.0114 - accuracy: 0.9961 - val_loss: 0.1654 - val_accuracy: 0.9670\n",
      "Epoch 18/25\n",
      "420/420 [==============================] - 1s 2ms/step - loss: 0.0149 - accuracy: 0.9951 - val_loss: 0.2093 - val_accuracy: 0.9604\n",
      "Epoch 19/25\n",
      "420/420 [==============================] - 1s 2ms/step - loss: 0.0161 - accuracy: 0.9943 - val_loss: 0.1531 - val_accuracy: 0.9695\n",
      "Epoch 20/25\n",
      "420/420 [==============================] - 1s 2ms/step - loss: 0.0071 - accuracy: 0.9976 - val_loss: 0.1846 - val_accuracy: 0.9665\n",
      "Epoch 21/25\n",
      "420/420 [==============================] - 1s 1ms/step - loss: 0.0133 - accuracy: 0.9956 - val_loss: 0.1832 - val_accuracy: 0.9656\n",
      "Epoch 22/25\n",
      "420/420 [==============================] - 1s 2ms/step - loss: 0.0081 - accuracy: 0.9973 - val_loss: 0.1766 - val_accuracy: 0.9671\n",
      "Epoch 23/25\n",
      "420/420 [==============================] - 1s 2ms/step - loss: 0.0093 - accuracy: 0.9967 - val_loss: 0.1741 - val_accuracy: 0.9689\n",
      "Epoch 24/25\n",
      "420/420 [==============================] - 1s 2ms/step - loss: 0.0047 - accuracy: 0.9985 - val_loss: 0.1866 - val_accuracy: 0.9649\n",
      "Epoch 25/25\n",
      "420/420 [==============================] - 1s 2ms/step - loss: 0.0091 - accuracy: 0.9972 - val_loss: 0.2323 - val_accuracy: 0.9592\n"
     ]
    }
   ],
   "source": [
    "history = model.fit(X_train, y_train, epochs=25, batch_size=64, validation_split=0.2)"
   ]
  },
  {
   "cell_type": "code",
   "execution_count": 10,
   "id": "fc01402b",
   "metadata": {},
   "outputs": [
    {
     "name": "stdout",
     "output_type": "stream",
     "text": [
      "263/263 [==============================] - 0s 860us/step - loss: 0.2110 - accuracy: 0.9624\n"
     ]
    }
   ],
   "source": [
    "test_loss, test_acc=model.evaluate(X_test,y_test)"
   ]
  },
  {
   "cell_type": "code",
   "execution_count": 11,
   "id": "25f940ab",
   "metadata": {},
   "outputs": [
    {
     "data": {
      "text/plain": [
       "<matplotlib.legend.Legend at 0x21210a518a0>"
      ]
     },
     "execution_count": 11,
     "metadata": {},
     "output_type": "execute_result"
    },
    {
     "data": {
      "image/png": "[encoded data removed]",
      "text/plain": [
       "<Figure size 1200x400 with 1 Axes>"
      ]
     },
     "metadata": {},
     "output_type": "display_data"
    }
   ],
   "source": [
    "plt.figure(figsize=(12, 4))\n",
    "\n",
    "# Plot Training Loss\n",
    "plt.subplot(1, 2, 1)\n",
    "plt.plot(history.history['loss'], label='Training Loss')\n",
    "plt.plot(history.history['val_loss'], label='Validation Loss')\n",
    "plt.title('Training and Validation Loss')\n",
    "plt.xlabel('Epoch')\n",
    "plt.ylabel('Loss')\n",
    "plt.legend()\n"
   ]
  },
  {
   "cell_type": "markdown",
   "id": "aa16a23c",
   "metadata": {},
   "source": [
    "# Woking with Test Data"
   ]
  },
  {
   "cell_type": "code",
   "execution_count": 12,
   "id": "deded7fd",
   "metadata": {},
   "outputs": [],
   "source": [
    "df_test=pd.read_csv('test.csv')"
   ]
  },
  {
   "cell_type": "code",
   "execution_count": 13,
   "id": "d03a483d",
   "metadata": {},
   "outputs": [
    {
     "data": {
      "text/plain": [
       "(28000, 784)"
      ]
     },
     "execution_count": 13,
     "metadata": {},
     "output_type": "execute_result"
    }
   ],
   "source": [
    "X_test_real=np.array(df_test)\n",
    "X_test_real.shape"
   ]
  },
  {
   "cell_type": "code",
   "execution_count": 14,
   "id": "78d024b6",
   "metadata": {},
   "outputs": [],
   "source": [
    "X_test_real=X_test_real.reshape((28000, 28, 28, 1)).astype('float32') / 255"
   ]
  },
  {
   "cell_type": "code",
   "execution_count": 22,
   "id": "5f7c52ee",
   "metadata": {},
   "outputs": [
    {
     "name": "stdout",
     "output_type": "stream",
     "text": [
      "875/875 [==============================] - 1s 2ms/step\n"
     ]
    }
   ],
   "source": [
    "predictions = model.predict(X_test_real)\n",
    "\n",
    "# 'predictions' will contain the predicted outputs for each sample in X_test\n",
    "\n",
    "# Optionally, convert the predicted outputs to class labels (if your output is categorical)\n",
    "predicted_classes = tf.argmax(predictions, axis=1)"
   ]
  },
  {
   "cell_type": "code",
   "execution_count": 16,
   "id": "2debb877",
   "metadata": {},
   "outputs": [
    {
     "data": {
      "text/plain": [
       "<tf.Tensor: shape=(28000,), dtype=int64, numpy=array([2, 0, 9, ..., 3, 9, 2], dtype=int64)>"
      ]
     },
     "execution_count": 16,
     "metadata": {},
     "output_type": "execute_result"
    }
   ],
   "source": [
    "predicted_classes"
   ]
  },
  {
   "cell_type": "code",
   "execution_count": 17,
   "id": "8aa55ea8",
   "metadata": {},
   "outputs": [
    {
     "data": {
      "image/png": "[encoded data removed]",
      "text/plain": [
       "<Figure size 1000x100 with 10 Axes>"
      ]
     },
     "metadata": {},
     "output_type": "display_data"
    }
   ],
   "source": [
    "plt.figure(figsize=(10, 1))\n",
    "for i in range(10):\n",
    "    plt.subplot(1, 10, i + 1)\n",
    "    plt.imshow(X_test_real[i].reshape(28, 28), cmap='gray')\n",
    "    plt.axis('off')\n",
    "plt.show()"
   ]
  },
  {
   "cell_type": "code",
   "execution_count": 18,
   "id": "245f6f5b",
   "metadata": {},
   "outputs": [],
   "source": [
    "import pandas as pd\n",
    "\n",
    "# Assuming 'predicted_classes' is the array containing predicted class labels\n",
    "# Create a DataFrame with the predicted class labels\n",
    "result_df = pd.DataFrame({'ImageId': range(1, len(predicted_classes) + 1), 'Label': predicted_classes})\n",
    "\n",
    "# Save the DataFrame to a CSV file\n",
    "result_df.to_csv('predictions.csv', index=False)\n"
   ]
  },
  {
   "cell_type": "markdown",
   "id": "5a1d122b",
   "metadata": {},
   "source": [
    "# Using CNN "
   ]
  },
  {
   "cell_type": "code",
   "execution_count": 33,
   "id": "3271a1bf",
   "metadata": {},
   "outputs": [
    {
     "name": "stdout",
     "output_type": "stream",
     "text": [
      "Epoch 1/60\n",
      "788/788 [==============================] - 7s 8ms/step - loss: 1.1102 - accuracy: 0.6555 - val_loss: 0.3618 - val_accuracy: 0.8932\n",
      "Epoch 2/60\n",
      "788/788 [==============================] - 7s 9ms/step - loss: 0.2904 - accuracy: 0.9112 - val_loss: 0.2515 - val_accuracy: 0.9248\n",
      "Epoch 3/60\n",
      "788/788 [==============================] - 6s 8ms/step - loss: 0.1906 - accuracy: 0.9405 - val_loss: 0.1768 - val_accuracy: 0.9433\n",
      "Epoch 4/60\n",
      "788/788 [==============================] - 7s 9ms/step - loss: 0.1450 - accuracy: 0.9545 - val_loss: 0.1677 - val_accuracy: 0.9435\n",
      "Epoch 5/60\n",
      "788/788 [==============================] - 7s 8ms/step - loss: 0.1187 - accuracy: 0.9635 - val_loss: 0.1276 - val_accuracy: 0.9613\n",
      "Epoch 6/60\n",
      "788/788 [==============================] - 6s 8ms/step - loss: 0.0998 - accuracy: 0.9687 - val_loss: 0.1019 - val_accuracy: 0.9688\n",
      "Epoch 7/60\n",
      "788/788 [==============================] - 7s 9ms/step - loss: 0.0893 - accuracy: 0.9723 - val_loss: 0.0903 - val_accuracy: 0.9723\n",
      "Epoch 8/60\n",
      "788/788 [==============================] - 6s 8ms/step - loss: 0.0811 - accuracy: 0.9746 - val_loss: 0.0978 - val_accuracy: 0.9681\n",
      "Epoch 9/60\n",
      "788/788 [==============================] - 7s 8ms/step - loss: 0.0719 - accuracy: 0.9775 - val_loss: 0.0891 - val_accuracy: 0.9712\n",
      "Epoch 10/60\n",
      "788/788 [==============================] - 7s 8ms/step - loss: 0.0673 - accuracy: 0.9781 - val_loss: 0.0777 - val_accuracy: 0.9760\n",
      "Epoch 11/60\n",
      "788/788 [==============================] - 6s 8ms/step - loss: 0.0611 - accuracy: 0.9806 - val_loss: 0.0732 - val_accuracy: 0.9790\n",
      "Epoch 12/60\n",
      "788/788 [==============================] - 7s 9ms/step - loss: 0.0558 - accuracy: 0.9817 - val_loss: 0.0754 - val_accuracy: 0.9777\n",
      "Epoch 13/60\n",
      "788/788 [==============================] - 7s 9ms/step - loss: 0.0515 - accuracy: 0.9829 - val_loss: 0.0717 - val_accuracy: 0.9787\n",
      "Epoch 14/60\n",
      "788/788 [==============================] - 8s 10ms/step - loss: 0.0477 - accuracy: 0.9846 - val_loss: 0.0770 - val_accuracy: 0.9769\n",
      "Epoch 15/60\n",
      "788/788 [==============================] - 7s 8ms/step - loss: 0.0451 - accuracy: 0.9849 - val_loss: 0.0989 - val_accuracy: 0.9693\n",
      "Epoch 16/60\n",
      "788/788 [==============================] - 7s 9ms/step - loss: 0.0420 - accuracy: 0.9859 - val_loss: 0.1059 - val_accuracy: 0.9665\n",
      "Epoch 17/60\n",
      "788/788 [==============================] - 7s 8ms/step - loss: 0.0403 - accuracy: 0.9867 - val_loss: 0.0669 - val_accuracy: 0.9802\n",
      "Epoch 18/60\n",
      "788/788 [==============================] - 7s 9ms/step - loss: 0.0378 - accuracy: 0.9878 - val_loss: 0.0656 - val_accuracy: 0.9818\n",
      "Epoch 19/60\n",
      "788/788 [==============================] - 7s 9ms/step - loss: 0.0344 - accuracy: 0.9895 - val_loss: 0.0742 - val_accuracy: 0.9788\n",
      "Epoch 20/60\n",
      "788/788 [==============================] - 6s 8ms/step - loss: 0.0323 - accuracy: 0.9895 - val_loss: 0.0681 - val_accuracy: 0.9805\n",
      "Epoch 21/60\n",
      "788/788 [==============================] - 7s 9ms/step - loss: 0.0304 - accuracy: 0.9899 - val_loss: 0.0680 - val_accuracy: 0.9793\n",
      "Epoch 22/60\n",
      "788/788 [==============================] - 6s 8ms/step - loss: 0.0294 - accuracy: 0.9909 - val_loss: 0.0657 - val_accuracy: 0.9812\n",
      "Epoch 23/60\n",
      "788/788 [==============================] - 7s 9ms/step - loss: 0.0264 - accuracy: 0.9910 - val_loss: 0.0623 - val_accuracy: 0.9821\n",
      "Epoch 24/60\n",
      "788/788 [==============================] - 7s 9ms/step - loss: 0.0258 - accuracy: 0.9917 - val_loss: 0.0687 - val_accuracy: 0.9813\n",
      "Epoch 25/60\n",
      "788/788 [==============================] - 7s 8ms/step - loss: 0.0244 - accuracy: 0.9923 - val_loss: 0.0661 - val_accuracy: 0.9810\n",
      "Epoch 26/60\n",
      "788/788 [==============================] - 7s 9ms/step - loss: 0.0243 - accuracy: 0.9918 - val_loss: 0.0662 - val_accuracy: 0.9811\n",
      "Epoch 27/60\n",
      "788/788 [==============================] - 6s 8ms/step - loss: 0.0216 - accuracy: 0.9930 - val_loss: 0.0632 - val_accuracy: 0.9826\n",
      "Epoch 28/60\n",
      "788/788 [==============================] - 7s 9ms/step - loss: 0.0205 - accuracy: 0.9934 - val_loss: 0.0678 - val_accuracy: 0.9825\n",
      "Epoch 29/60\n",
      "788/788 [==============================] - 7s 8ms/step - loss: 0.0191 - accuracy: 0.9938 - val_loss: 0.0657 - val_accuracy: 0.9820\n",
      "Epoch 30/60\n",
      "788/788 [==============================] - 7s 8ms/step - loss: 0.0178 - accuracy: 0.9941 - val_loss: 0.0684 - val_accuracy: 0.9819\n",
      "Epoch 31/60\n",
      "788/788 [==============================] - 7s 9ms/step - loss: 0.0169 - accuracy: 0.9948 - val_loss: 0.0642 - val_accuracy: 0.9833\n",
      "Epoch 32/60\n",
      "788/788 [==============================] - 6s 8ms/step - loss: 0.0158 - accuracy: 0.9955 - val_loss: 0.0708 - val_accuracy: 0.9811\n",
      "Epoch 33/60\n",
      "788/788 [==============================] - 7s 9ms/step - loss: 0.0154 - accuracy: 0.9952 - val_loss: 0.0676 - val_accuracy: 0.9833\n",
      "Epoch 34/60\n",
      "788/788 [==============================] - 6s 8ms/step - loss: 0.0146 - accuracy: 0.9956 - val_loss: 0.0639 - val_accuracy: 0.9833\n",
      "Epoch 35/60\n",
      "788/788 [==============================] - 7s 9ms/step - loss: 0.0143 - accuracy: 0.9954 - val_loss: 0.0663 - val_accuracy: 0.9843\n",
      "Epoch 36/60\n",
      "788/788 [==============================] - 7s 8ms/step - loss: 0.0129 - accuracy: 0.9958 - val_loss: 0.0724 - val_accuracy: 0.9814\n",
      "Epoch 37/60\n",
      "788/788 [==============================] - 6s 8ms/step - loss: 0.0112 - accuracy: 0.9970 - val_loss: 0.0743 - val_accuracy: 0.9793\n",
      "Epoch 38/60\n",
      "788/788 [==============================] - 7s 9ms/step - loss: 0.0117 - accuracy: 0.9966 - val_loss: 0.0689 - val_accuracy: 0.9818\n",
      "Epoch 39/60\n",
      "788/788 [==============================] - 7s 8ms/step - loss: 0.0112 - accuracy: 0.9968 - val_loss: 0.0703 - val_accuracy: 0.9831\n",
      "Epoch 40/60\n",
      "788/788 [==============================] - 7s 9ms/step - loss: 0.0099 - accuracy: 0.9970 - val_loss: 0.0655 - val_accuracy: 0.9838\n",
      "Epoch 41/60\n",
      "788/788 [==============================] - 7s 8ms/step - loss: 0.0093 - accuracy: 0.9971 - val_loss: 0.0727 - val_accuracy: 0.9823\n",
      "Epoch 42/60\n",
      "788/788 [==============================] - 7s 8ms/step - loss: 0.0093 - accuracy: 0.9974 - val_loss: 0.0712 - val_accuracy: 0.9824\n",
      "Epoch 43/60\n",
      "788/788 [==============================] - 7s 9ms/step - loss: 0.0091 - accuracy: 0.9975 - val_loss: 0.0736 - val_accuracy: 0.9839\n",
      "Epoch 44/60\n",
      "788/788 [==============================] - 6s 8ms/step - loss: 0.0080 - accuracy: 0.9981 - val_loss: 0.0747 - val_accuracy: 0.9820\n",
      "Epoch 45/60\n",
      "788/788 [==============================] - 7s 9ms/step - loss: 0.0074 - accuracy: 0.9982 - val_loss: 0.0673 - val_accuracy: 0.9830\n",
      "Epoch 46/60\n",
      "788/788 [==============================] - 6s 8ms/step - loss: 0.0061 - accuracy: 0.9986 - val_loss: 0.0714 - val_accuracy: 0.9833\n",
      "Epoch 47/60\n",
      "788/788 [==============================] - 7s 8ms/step - loss: 0.0067 - accuracy: 0.9984 - val_loss: 0.0715 - val_accuracy: 0.9836\n",
      "Epoch 48/60\n",
      "788/788 [==============================] - 7s 9ms/step - loss: 0.0064 - accuracy: 0.9984 - val_loss: 0.1432 - val_accuracy: 0.9685\n",
      "Epoch 49/60\n",
      "788/788 [==============================] - 6s 8ms/step - loss: 0.0065 - accuracy: 0.9981 - val_loss: 0.0696 - val_accuracy: 0.9850\n",
      "Epoch 50/60\n",
      "788/788 [==============================] - 7s 9ms/step - loss: 0.0058 - accuracy: 0.9985 - val_loss: 0.0741 - val_accuracy: 0.9830\n",
      "Epoch 51/60\n",
      "788/788 [==============================] - 6s 8ms/step - loss: 0.0044 - accuracy: 0.9992 - val_loss: 0.0709 - val_accuracy: 0.9840\n",
      "Epoch 52/60\n",
      "788/788 [==============================] - 7s 9ms/step - loss: 0.0046 - accuracy: 0.9990 - val_loss: 0.0746 - val_accuracy: 0.9843\n",
      "Epoch 53/60\n",
      "788/788 [==============================] - 7s 8ms/step - loss: 0.0052 - accuracy: 0.9987 - val_loss: 0.0718 - val_accuracy: 0.9851\n",
      "Epoch 54/60\n",
      "788/788 [==============================] - 7s 8ms/step - loss: 0.0044 - accuracy: 0.9991 - val_loss: 0.0720 - val_accuracy: 0.9845\n",
      "Epoch 55/60\n",
      "788/788 [==============================] - 7s 9ms/step - loss: 0.0036 - accuracy: 0.9994 - val_loss: 0.0739 - val_accuracy: 0.9839\n",
      "Epoch 56/60\n",
      "788/788 [==============================] - 6s 8ms/step - loss: 0.0031 - accuracy: 0.9995 - val_loss: 0.0737 - val_accuracy: 0.9852\n",
      "Epoch 57/60\n",
      "788/788 [==============================] - 7s 9ms/step - loss: 0.0030 - accuracy: 0.9995 - val_loss: 0.0739 - val_accuracy: 0.9849\n",
      "Epoch 58/60\n"
     ]
    },
    {
     "name": "stdout",
     "output_type": "stream",
     "text": [
      "788/788 [==============================] - 6s 8ms/step - loss: 0.0029 - accuracy: 0.9995 - val_loss: 0.0749 - val_accuracy: 0.9842\n",
      "Epoch 59/60\n",
      "788/788 [==============================] - 7s 8ms/step - loss: 0.0029 - accuracy: 0.9994 - val_loss: 0.0751 - val_accuracy: 0.9849\n",
      "Epoch 60/60\n",
      "788/788 [==============================] - 7s 8ms/step - loss: 0.0026 - accuracy: 0.9996 - val_loss: 0.0756 - val_accuracy: 0.9848\n",
      "263/263 [==============================] - 1s 2ms/step - loss: 0.0599 - accuracy: 0.9873\n",
      "Test accuracy: 0.9872618913650513\n"
     ]
    }
   ],
   "source": [
    "model = models.Sequential()\n",
    "model.add(layers.Conv2D(64, (3, 3), activation='relu', input_shape=(28, 28, 1)))\n",
    "model.add(layers.MaxPooling2D((2, 2)))\n",
    "model.add(layers.Conv2D(64, (3, 3), activation='relu'))\n",
    "model.add(layers.MaxPooling2D((2, 2)))\n",
    "model.add(layers.Conv2D(32, (3, 3), activation='relu'))\n",
    "model.add(layers.Flatten())\n",
    "model.add(layers.Dense(32, activation='relu'))\n",
    "model.add(layers.Dense(10, activation='softmax'))\n",
    "\n",
    "# Compile the model\n",
    "model.compile(optimizer='SGD',\n",
    "              loss='categorical_crossentropy',\n",
    "              metrics=['accuracy'])\n",
    "\n",
    "# Train the model\n",
    "model.fit(X_train,y_train, epochs=60, batch_size=32, validation_split=0.25)\n",
    "\n",
    "# Evaluate the model on the test set\n",
    "test_loss, test_acc = model.evaluate(X_test, y_test)\n",
    "print(f'Test accuracy: {test_acc}')"
   ]
  },
  {
   "cell_type": "code",
   "execution_count": 34,
   "id": "4414e726",
   "metadata": {},
   "outputs": [
    {
     "name": "stdout",
     "output_type": "stream",
     "text": [
      "875/875 [==============================] - 2s 3ms/step\n"
     ]
    }
   ],
   "source": [
    "predictions = model.predict(X_test_real)\n",
    "\n",
    "# 'predictions' will contain the predicted outputs for each sample in X_test\n",
    "\n",
    "# Optionally, convert the predicted outputs to class labels (if your output is categorical)\n",
    "predicted_classes = tf.argmax(predictions, axis=1)"
   ]
  },
  {
   "cell_type": "code",
   "execution_count": 35,
   "id": "9089491c",
   "metadata": {},
   "outputs": [],
   "source": [
    "import pandas as pd\n",
    "\n",
    "# Assuming 'predicted_classes' is the array containing predicted class labels\n",
    "# Create a DataFrame with the predicted class labels\n",
    "result_df = pd.DataFrame({'ImageId': range(1, len(predicted_classes) + 1), 'Label': predicted_classes})\n",
    "\n",
    "# Save the DataFrame to a CSV file\n",
    "result_df.to_csv('predictions.csv', index=False)"
   ]
  },
  {
   "cell_type": "code",
   "execution_count": null,
   "id": "eda312f7",
   "metadata": {},
   "outputs": [],
   "source": []
  }
 ],
 "metadata": {
  "kernelspec": {
   "display_name": "Python 3 (ipykernel)",
   "language": "python",
   "name": "python3"
  },
  "language_info": {
   "codemirror_mode": {
    "name": "ipython",
    "version": 3
   },
   "file_extension": ".py",
   "mimetype": "text/x-python",
   "name": "python",
   "nbconvert_exporter": "python",
   "pygments_lexer": "ipython3",
   "version": "3.10.9"
  }
 },
 "nbformat": 4,
 "nbformat_minor": 5
}
